{
 "cells": [
  {
   "cell_type": "markdown",
   "id": "4015230d",
   "metadata": {},
   "source": [
    "Carga de librerías"
   ]
  },
  {
   "cell_type": "code",
   "execution_count": 1,
   "id": "823e3a62-6c83-4cd0-acec-bdd080a71180",
   "metadata": {},
   "outputs": [],
   "source": [
    "import os\n",
    "import ingest_flights as src\n",
    "\n",
    "from google.cloud import storage"
   ]
  },
  {
   "cell_type": "markdown",
   "id": "cca53543",
   "metadata": {},
   "source": [
    "Inspección rápida del URL de origen de datos"
   ]
  },
  {
   "cell_type": "code",
   "execution_count": 2,
   "id": "366be27a-f47a-4a90-91c7-a544cd5ae7bc",
   "metadata": {},
   "outputs": [
    {
     "data": {
      "text/plain": [
       "'https://storage.googleapis.com/data-science-on-gcp/edition2/raw'"
      ]
     },
     "execution_count": 2,
     "metadata": {},
     "output_type": "execute_result"
    }
   ],
   "source": [
    "src.SOURCE"
   ]
  },
  {
   "cell_type": "markdown",
   "id": "07b27ef8",
   "metadata": {},
   "source": [
    "# Pasos de arquitectura\n",
    "\n",
    "## Descarga de datos"
   ]
  },
  {
   "cell_type": "code",
   "execution_count": 3,
   "id": "96079f67",
   "metadata": {},
   "outputs": [
    {
     "data": {
      "text/plain": [
       "'data\\\\raw\\\\201810.zip'"
      ]
     },
     "execution_count": 3,
     "metadata": {},
     "output_type": "execute_result"
    }
   ],
   "source": [
    "out_file = src.download(year='2018', month='10', destdir=os.path.join('data','raw'))\n",
    "out_file"
   ]
  },
  {
   "cell_type": "markdown",
   "id": "bdffb3f0",
   "metadata": {},
   "source": [
    "## Descompresión"
   ]
  },
  {
   "cell_type": "code",
   "execution_count": 4,
   "id": "a1707c97",
   "metadata": {},
   "outputs": [
    {
     "data": {
      "text/plain": [
       "'data\\\\unziped\\\\On_Time_Reporting_Carrier_On_Time_Performance_(1987_present)_2018_10.csv.gz'"
      ]
     },
     "execution_count": 4,
     "metadata": {},
     "output_type": "execute_result"
    }
   ],
   "source": [
    "unziped = src.zip_to_csv(\n",
    "    filename=out_file\n",
    "    ,destdir=os.path.join('data','unziped'))\n",
    "\n",
    "unziped"
   ]
  },
  {
   "cell_type": "markdown",
   "id": "cec82e56",
   "metadata": {},
   "source": [
    "## Bucket de Cloud Storage\n",
    "\n",
    "Documentación en creación de [Buckets](https://cloud.google.com/storage/docs/creating-buckets#storage-create-bucket-client_libraries) usando clientes como Python\n",
    "\n",
    "Documentación sobre las [clases](https://cloud.google.com/storage/docs/storage-classes) de almacenamiento\n",
    "\n",
    "ID de proyecto:\n",
    "\n",
    "```sh\n",
    "gcloud config get-value project\n",
    "```"
   ]
  },
  {
   "cell_type": "code",
   "execution_count": 5,
   "id": "7ed4d025",
   "metadata": {},
   "outputs": [
    {
     "name": "stdout",
     "output_type": "stream",
     "text": [
      "Created bucket ch02 in US-CENTRAL1 with storage class COLDLINE\n"
     ]
    }
   ],
   "source": [
    "PROJECT = 'ds-on-gcp-402120'\n",
    "client = storage.Client(project=PROJECT)\n",
    "bucket = client.bucket(bucket_name='ch02')\n",
    "bucket.storage_class = 'COLDLINE'\n",
    "\n",
    "if bucket.exists():\n",
    "    print(\"Bucket {} with storage class {}\".format(\n",
    "        bucket.name, bucket.storage_class))\n",
    "    \n",
    "else:\n",
    "    bucket = client.create_bucket(bucket, project=PROJECT, location='us-central1')\n",
    "\n",
    "    print(\"Created bucket {} in {} with storage class {}\".format(\n",
    "        bucket.name, bucket.location, bucket.storage_class))"
   ]
  },
  {
   "cell_type": "markdown",
   "id": "ed6dbbff",
   "metadata": {},
   "source": [
    "## Ingesta de datos a Cloud Storage"
   ]
  },
  {
   "cell_type": "code",
   "execution_count": 12,
   "id": "48535afe",
   "metadata": {},
   "outputs": [
    {
     "data": {
      "text/plain": [
       "'gs://ch02/201810.csv'"
      ]
     },
     "execution_count": 12,
     "metadata": {},
     "output_type": "execute_result"
    }
   ],
   "source": [
    "src.upload(\n",
    "    csvfile=unziped[:-3]\n",
    "    ,bucketname=bucket.name\n",
    "    ,blobname='201810.csv')"
   ]
  },
  {
   "cell_type": "code",
   "execution_count": null,
   "id": "a0d5bd7b",
   "metadata": {},
   "outputs": [],
   "source": []
  }
 ],
 "metadata": {
  "kernelspec": {
   "display_name": "Python 3 (ipykernel)",
   "language": "python",
   "name": "python3"
  },
  "language_info": {
   "codemirror_mode": {
    "name": "ipython",
    "version": 3
   },
   "file_extension": ".py",
   "mimetype": "text/x-python",
   "name": "python",
   "nbconvert_exporter": "python",
   "pygments_lexer": "ipython3",
   "version": "3.10.10"
  }
 },
 "nbformat": 4,
 "nbformat_minor": 5
}
