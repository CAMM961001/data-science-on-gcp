{
 "cells": [
  {
   "cell_type": "markdown",
   "id": "4015230d",
   "metadata": {},
   "source": [
    "Carga de librerías"
   ]
  },
  {
   "cell_type": "code",
   "execution_count": 1,
   "id": "823e3a62-6c83-4cd0-acec-bdd080a71180",
   "metadata": {},
   "outputs": [],
   "source": [
    "import os\n",
    "import ingest_flights as src\n",
    "\n",
    "from google.cloud import storage\n",
    "from google.cloud import bigquery"
   ]
  },
  {
   "cell_type": "markdown",
   "id": "cca53543",
   "metadata": {},
   "source": [
    "Inspección rápida del URL de origen de datos"
   ]
  },
  {
   "cell_type": "code",
   "execution_count": 2,
   "id": "366be27a-f47a-4a90-91c7-a544cd5ae7bc",
   "metadata": {},
   "outputs": [
    {
     "data": {
      "text/plain": [
       "'https://storage.googleapis.com/data-science-on-gcp/edition2/raw'"
      ]
     },
     "execution_count": 2,
     "metadata": {},
     "output_type": "execute_result"
    }
   ],
   "source": [
    "src.SOURCE"
   ]
  },
  {
   "cell_type": "markdown",
   "id": "07b27ef8",
   "metadata": {},
   "source": [
    "# Pasos de arquitectura\n",
    "\n",
    "## Descarga de datos"
   ]
  },
  {
   "cell_type": "code",
   "execution_count": 3,
   "id": "96079f67",
   "metadata": {},
   "outputs": [
    {
     "data": {
      "text/plain": [
       "'data\\\\raw\\\\201810.zip'"
      ]
     },
     "execution_count": 3,
     "metadata": {},
     "output_type": "execute_result"
    }
   ],
   "source": [
    "out_file = src.download(year='2018', month='10', destdir=os.path.join('data','raw'))\n",
    "out_file"
   ]
  },
  {
   "cell_type": "markdown",
   "id": "bdffb3f0",
   "metadata": {},
   "source": [
    "## Descompresión"
   ]
  },
  {
   "cell_type": "code",
   "execution_count": 4,
   "id": "a1707c97",
   "metadata": {},
   "outputs": [
    {
     "data": {
      "text/plain": [
       "'data\\\\unziped\\\\On_Time_Reporting_Carrier_On_Time_Performance_(1987_present)_2018_10.csv.gz'"
      ]
     },
     "execution_count": 4,
     "metadata": {},
     "output_type": "execute_result"
    }
   ],
   "source": [
    "unziped = src.zip_to_csv(\n",
    "    filename=out_file\n",
    "    ,destdir=os.path.join('data','unziped'))\n",
    "\n",
    "unziped"
   ]
  },
  {
   "cell_type": "markdown",
   "id": "cec82e56",
   "metadata": {},
   "source": [
    "## Bucket de Cloud Storage\n",
    "\n",
    "Documentación en creación de [Buckets](https://cloud.google.com/storage/docs/creating-buckets#storage-create-bucket-client_libraries) usando clientes como Python\n",
    "\n",
    "Documentación sobre las [clases](https://cloud.google.com/storage/docs/storage-classes) de almacenamiento\n",
    "\n",
    "ID de proyecto:\n",
    "\n",
    "```sh\n",
    "gcloud config get-value project\n",
    "```"
   ]
  },
  {
   "cell_type": "code",
   "execution_count": 5,
   "id": "7ed4d025",
   "metadata": {},
   "outputs": [
    {
     "name": "stdout",
     "output_type": "stream",
     "text": [
      "Bucket ch02 with storage class COLDLINE\n"
     ]
    }
   ],
   "source": [
    "PROJECT = 'ds-on-gcp-402120'\n",
    "client = storage.Client(project=PROJECT)\n",
    "bucket = client.bucket(bucket_name='ch02')\n",
    "bucket.storage_class = 'COLDLINE'\n",
    "\n",
    "if bucket.exists():\n",
    "    print(\"Bucket {} with storage class {}\".format(\n",
    "        bucket.name, bucket.storage_class))\n",
    "    \n",
    "else:\n",
    "    bucket = client.create_bucket(bucket, project=PROJECT, location='us-central1')\n",
    "\n",
    "    print(\"Created bucket {} in {} with storage class {}\".format(\n",
    "        bucket.name, bucket.location, bucket.storage_class))"
   ]
  },
  {
   "cell_type": "markdown",
   "id": "ed6dbbff",
   "metadata": {},
   "source": [
    "## Ingesta de datos a Cloud Storage"
   ]
  },
  {
   "cell_type": "code",
   "execution_count": 6,
   "id": "48535afe",
   "metadata": {},
   "outputs": [
    {
     "data": {
      "text/plain": [
       "'gs://ch02/201810.csv'"
      ]
     },
     "execution_count": 6,
     "metadata": {},
     "output_type": "execute_result"
    }
   ],
   "source": [
    "src.upload(\n",
    "    csvfile=unziped[:-3]\n",
    "    ,bucketname=bucket.name\n",
    "    ,blobname='201810.csv')"
   ]
  },
  {
   "cell_type": "markdown",
   "id": "a0d5bd7b",
   "metadata": {},
   "source": [
    "## Carga a BigQuery\n",
    "\n",
    "Antes debe existir el dataset de BigQuery en el que se almacenarán los datos"
   ]
  },
  {
   "cell_type": "code",
   "execution_count": 7,
   "id": "bcfe3de2",
   "metadata": {},
   "outputs": [],
   "source": [
    "client = bigquery.Client(project=PROJECT)\n",
    "bq_table = client.dataset('dsongcp').table('flights_raw$201810')"
   ]
  },
  {
   "cell_type": "code",
   "execution_count": 8,
   "id": "02bb4126",
   "metadata": {},
   "outputs": [],
   "source": [
    "job_config = bigquery.LoadJobConfig()\n",
    "job_config.source_format = 'CSV'\n",
    "job_config.write_disposition = 'WRITE_TRUNCATE'\n",
    "job_config.ignore_unknown_values = True\n",
    "job_config.time_partitioning = bigquery.table.TimePartitioning('MONTH','FlightDate')\n",
    "job_config.skip_leading_rows = 1\n",
    "job_config.schema = [\n",
    "    bigquery.SchemaField(col_and_type.split(':')[0], col_and_type.split(':')[1])  #, mode='required')\n",
    "    for col_and_type in\n",
    "    \"Year:STRING,Quarter:STRING,Month:STRING,DayofMonth:STRING,DayOfWeek:STRING,FlightDate:DATE,Reporting_Airline:STRING,DOT_ID_Reporting_Airline:STRING,IATA_CODE_Reporting_Airline:STRING,Tail_Number:STRING,Flight_Number_Reporting_Airline:STRING,OriginAirportID:STRING,OriginAirportSeqID:STRING,OriginCityMarketID:STRING,Origin:STRING,OriginCityName:STRING,OriginState:STRING,OriginStateFips:STRING,OriginStateName:STRING,OriginWac:STRING,DestAirportID:STRING,DestAirportSeqID:STRING,DestCityMarketID:STRING,Dest:STRING,DestCityName:STRING,DestState:STRING,DestStateFips:STRING,DestStateName:STRING,DestWac:STRING,CRSDepTime:STRING,DepTime:STRING,DepDelay:STRING,DepDelayMinutes:STRING,DepDel15:STRING,DepartureDelayGroups:STRING,DepTimeBlk:STRING,TaxiOut:STRING,WheelsOff:STRING,WheelsOn:STRING,TaxiIn:STRING,CRSArrTime:STRING,ArrTime:STRING,ArrDelay:STRING,ArrDelayMinutes:STRING,ArrDel15:STRING,ArrivalDelayGroups:STRING,ArrTimeBlk:STRING,Cancelled:STRING,CancellationCode:STRING,Diverted:STRING,CRSElapsedTime:STRING,ActualElapsedTime:STRING,AirTime:STRING,Flights:STRING,Distance:STRING,DistanceGroup:STRING,CarrierDelay:STRING,WeatherDelay:STRING,NASDelay:STRING,SecurityDelay:STRING,LateAircraftDelay:STRING,FirstDepTime:STRING,TotalAddGTime:STRING,LongestAddGTime:STRING,DivAirportLandings:STRING,DivReachedDest:STRING,DivActualElapsedTime:STRING,DivArrDelay:STRING,DivDistance:STRING,Div1Airport:STRING,Div1AirportID:STRING,Div1AirportSeqID:STRING,Div1WheelsOn:STRING,Div1TotalGTime:STRING,Div1LongestGTime:STRING,Div1WheelsOff:STRING,Div1TailNum:STRING,Div2Airport:STRING,Div2AirportID:STRING,Div2AirportSeqID:STRING,Div2WheelsOn:STRING,Div2TotalGTime:STRING,Div2LongestGTime:STRING,Div2WheelsOff:STRING,Div2TailNum:STRING,Div3Airport:STRING,Div3AirportID:STRING,Div3AirportSeqID:STRING,Div3WheelsOn:STRING,Div3TotalGTime:STRING,Div3LongestGTime:STRING,Div3WheelsOff:STRING,Div3TailNum:STRING,Div4Airport:STRING,Div4AirportID:STRING,Div4AirportSeqID:STRING,Div4WheelsOn:STRING,Div4TotalGTime:STRING,Div4LongestGTime:STRING,Div4WheelsOff:STRING,Div4TailNum:STRING,Div5Airport:STRING,Div5AirportID:STRING,Div5AirportSeqID:STRING,Div5WheelsOn:STRING,Div5TotalGTime:STRING,Div5LongestGTime:STRING,Div5WheelsOff:STRING,Div5TailNum:STRING\".split(',')\n",
    "]"
   ]
  },
  {
   "cell_type": "code",
   "execution_count": 10,
   "id": "050e65a2",
   "metadata": {},
   "outputs": [
    {
     "data": {
      "text/plain": [
       "LoadJob<project=ds-on-gcp-402120, location=us-central1, id=019ac474-e624-4d1f-83e2-c49afb9f9b4d>"
      ]
     },
     "execution_count": 10,
     "metadata": {},
     "output_type": "execute_result"
    }
   ],
   "source": [
    "load_job = client.load_table_from_uri(\n",
    "    source_uris='gs://ch02/201810.csv'\n",
    "    ,destination=bq_table\n",
    "    ,job_config=job_config\n",
    ")\n",
    "\n",
    "load_job.result()"
   ]
  },
  {
   "cell_type": "code",
   "execution_count": null,
   "id": "9c56cbbb",
   "metadata": {},
   "outputs": [],
   "source": []
  }
 ],
 "metadata": {
  "kernelspec": {
   "display_name": "Python 3 (ipykernel)",
   "language": "python",
   "name": "python3"
  },
  "language_info": {
   "codemirror_mode": {
    "name": "ipython",
    "version": 3
   },
   "file_extension": ".py",
   "mimetype": "text/x-python",
   "name": "python",
   "nbconvert_exporter": "python",
   "pygments_lexer": "ipython3",
   "version": "3.10.10"
  }
 },
 "nbformat": 4,
 "nbformat_minor": 5
}
