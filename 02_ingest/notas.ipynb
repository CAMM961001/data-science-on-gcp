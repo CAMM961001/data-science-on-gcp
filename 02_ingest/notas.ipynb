{
 "cells": [
  {
   "cell_type": "markdown",
   "id": "4015230d",
   "metadata": {},
   "source": [
    "Carga de librerías"
   ]
  },
  {
   "cell_type": "code",
   "execution_count": 1,
   "id": "823e3a62-6c83-4cd0-acec-bdd080a71180",
   "metadata": {},
   "outputs": [],
   "source": [
    "import os\n",
    "import ingest_flights as src"
   ]
  },
  {
   "cell_type": "markdown",
   "id": "cca53543",
   "metadata": {},
   "source": [
    "Inspección rápida del URL de origen de datos"
   ]
  },
  {
   "cell_type": "code",
   "execution_count": 2,
   "id": "366be27a-f47a-4a90-91c7-a544cd5ae7bc",
   "metadata": {},
   "outputs": [
    {
     "data": {
      "text/plain": [
       "'https://storage.googleapis.com/data-science-on-gcp/edition2/raw'"
      ]
     },
     "execution_count": 2,
     "metadata": {},
     "output_type": "execute_result"
    }
   ],
   "source": [
    "src.SOURCE"
   ]
  },
  {
   "cell_type": "markdown",
   "id": "07b27ef8",
   "metadata": {},
   "source": [
    "# Pasos de arquitectura\n",
    "\n",
    "## Descarga de datos"
   ]
  },
  {
   "cell_type": "code",
   "execution_count": 3,
   "id": "96079f67",
   "metadata": {},
   "outputs": [
    {
     "data": {
      "text/plain": [
       "'data\\\\raw\\\\201810.zip'"
      ]
     },
     "execution_count": 3,
     "metadata": {},
     "output_type": "execute_result"
    }
   ],
   "source": [
    "src.download(year='2018', month='10', destdir=os.path.join('data','raw'))"
   ]
  },
  {
   "cell_type": "markdown",
   "id": "bdffb3f0",
   "metadata": {},
   "source": [
    "## Descompresión"
   ]
  },
  {
   "cell_type": "code",
   "execution_count": 4,
   "id": "a1707c97",
   "metadata": {},
   "outputs": [
    {
     "data": {
      "text/plain": [
       "'data\\\\unziped\\\\On_Time_Reporting_Carrier_On_Time_Performance_(1987_present)_2018_10.csv.gz'"
      ]
     },
     "execution_count": 4,
     "metadata": {},
     "output_type": "execute_result"
    }
   ],
   "source": [
    "src.zip_to_csv(\n",
    "    filename=os.path.join('data','raw','201810.zip')\n",
    "    ,destdir=os.path.join('data','unziped'))"
   ]
  },
  {
   "cell_type": "code",
   "execution_count": null,
   "id": "cec82e56",
   "metadata": {},
   "outputs": [],
   "source": []
  }
 ],
 "metadata": {
  "kernelspec": {
   "display_name": "Python 3 (ipykernel)",
   "language": "python",
   "name": "python3"
  },
  "language_info": {
   "codemirror_mode": {
    "name": "ipython",
    "version": 3
   },
   "file_extension": ".py",
   "mimetype": "text/x-python",
   "name": "python",
   "nbconvert_exporter": "python",
   "pygments_lexer": "ipython3",
   "version": "3.10.10"
  }
 },
 "nbformat": 4,
 "nbformat_minor": 5
}
